{
  "nbformat": 4,
  "nbformat_minor": 0,
  "metadata": {
    "colab": {
      "provenance": [],
      "authorship_tag": "ABX9TyOxI7VuXGEDEjm9k++Klnz4",
      "include_colab_link": true
    },
    "kernelspec": {
      "name": "python3",
      "display_name": "Python 3"
    },
    "language_info": {
      "name": "python"
    }
  },
  "cells": [
    {
      "cell_type": "markdown",
      "metadata": {
        "id": "view-in-github",
        "colab_type": "text"
      },
      "source": [
        "<a href=\"https://colab.research.google.com/github/ParasAnmolSingh/ITC-Assignments/blob/main/assignment_2.ipynb\" target=\"_parent\"><img src=\"https://colab.research.google.com/assets/colab-badge.svg\" alt=\"Open In Colab\"/></a>"
      ]
    },
    {
      "cell_type": "code",
      "source": [
        "#soln 1\n",
        "a=\"python is a case sensitive language\"\n",
        "print(\"length of string=\",len(a))\n",
        "print(a[::-1])\n",
        "b=a[10:26:1]\n",
        "print(b)\n",
        "replaced=a.replace(\"a case sensitive\",\"object oriented\")\n",
        "print(replaced)\n",
        "print(a.index(\"a\"))\n",
        "print(a.replace(\" \",\"\"))"
      ],
      "metadata": {
        "id": "ZyRYYPQoDB45"
      },
      "execution_count": null,
      "outputs": []
    },
    {
      "cell_type": "code",
      "source": [
        "#soln 2\n",
        "name = \"ABC\"\n",
        "SID = \"2210XXXX\"\n",
        "department = \"XYZ\"\n",
        "CGPA = 9.9\n",
        "print(\"Hey,\", name, \"Here!\\nMy SID is\", SID, \"\\nI am from\", department, \"department and my CGPA is\", CGPA)\n"
      ],
      "metadata": {
        "id": "hJjAMFWX8KjT"
      },
      "execution_count": null,
      "outputs": []
    },
    {
      "cell_type": "code",
      "source": [
        "#soln 3\n",
        "a = 56\n",
        "b = 10\n",
        "print(\"a. a & b =\", a&b)\n",
        "print(\"b. a | b =\", a|b)\n",
        "print(\"c. a ^ b =\", a^b)\n",
        "print(\"d. Left shifting a and b with 2 bits =\",a<<2,\"and\",b<<2)\n",
        "print(\"e. Right shifting a with 2 bits and b with 4 bits=\",a>>2,\"and\",b>>4)\n"
      ],
      "metadata": {
        "id": "5FraFvt9pLsr"
      },
      "execution_count": null,
      "outputs": []
    },
    {
      "cell_type": "code",
      "source": [
        "#soln 4\n",
        " a=int(input(\"enter the first number:\"))\n",
        " b=int(input(\"enter the second number:\"))\n",
        " c=int(input(\"enter the third number:\"))\n",
        "\n",
        " if (a>b and a>c):\n",
        "     print(a,\"is greatest\")\n",
        " elif (b>a and b>c):\n",
        "      print(b,\"is greatest\")\n",
        " else :\n",
        "      print(c,\"is greatest\")         "
      ],
      "metadata": {
        "id": "f3acuEVns-Hx"
      },
      "execution_count": null,
      "outputs": []
    },
    {
      "cell_type": "code",
      "source": [
        "#soln 5\n",
        "str = input(\"Enter the string: \")\n",
        "if \"name\" in str:\n",
        "    print(\"Yes\")\n",
        "else:\n",
        "    print(\"No\")"
      ],
      "metadata": {
        "id": "adYKlYF4BYyU"
      },
      "execution_count": null,
      "outputs": []
    },
    {
      "cell_type": "code",
      "source": [
        "#soln 6\n",
        "a = int(input(\"enter the first side length of triangle:\"))\n",
        "b = int(input(\"enter the second side length of triangle:\"))\n",
        "c = int(input(\"enter the third side length of triangle:\"))\n",
        "\n",
        "if (a+b>c and a+c>b and b+c>a):\n",
        "    print(\"yes\")\n",
        "\n",
        "else :         \n",
        "      print(\"no\")           \n"
      ],
      "metadata": {
        "id": "_V2HMzjZ6lEj"
      },
      "execution_count": null,
      "outputs": []
    }
  ]
}
{
  "nbformat": 4,
  "nbformat_minor": 0,
  "metadata": {
    "colab": {
      "provenance": [],
      "authorship_tag": "ABX9TyO8yi56KUnZPcIUTTjALDVe",
      "include_colab_link": true
    },
    "kernelspec": {
      "name": "python3",
      "display_name": "Python 3"
    },
    "language_info": {
      "name": "python"
    }
  },
  "cells": [
    {
      "cell_type": "markdown",
      "metadata": {
        "id": "view-in-github",
        "colab_type": "text"
      },
      "source": [
        "<a href=\"https://colab.research.google.com/github/ParasAnmolSingh/ITC-Assignments/blob/main/assignment1.ipynb\" target=\"_parent\"><img src=\"https://colab.research.google.com/assets/colab-badge.svg\" alt=\"Open In Colab\"/></a>"
      ]
    },
    {
      "cell_type": "code",
      "execution_count": null,
      "metadata": {
        "id": "ih0EIrQEgbLa"
      },
      "outputs": [],
      "source": [
        "#soln 1\n",
        "a=int(input(\"please enter the first number:\"))\n",
        "b=int(input(\"please enter the second number:\"))\n",
        "c=int(input(\"please enter the third number:\"))\n",
        "s=(a+b+c)/3\n",
        "print(\"the average of the above given three numbers is\",s)"
      ]
    },
    {
      "cell_type": "code",
      "source": [
        "#soln 2\n",
        "a=int(input(\"please enter your gross income to nearest penny:\"))\n",
        "b=int(input(\"please enter number of dependents(if nil write 0):\"))\n",
        "c=((b*3000)+10000)\n",
        "d=(a-c)\n",
        "e=(d*0.2)\n",
        "print(\"the total tax to be paid by you is\",e)"
      ],
      "metadata": {
        "id": "fVGSMo-BiIfw"
      },
      "execution_count": null,
      "outputs": []
    },
    {
      "cell_type": "code",
      "source": [
        "#soln 3\n",
        "a=int(input(\"please enter number of seconds:\"))\n",
        "min=a//60\n",
        "sec=a%60\n",
        "print(\"these are\",min,\"minutes and\",sec,\"seconds\")"
      ],
      "metadata": {
        "id": "xLzulZE-kU5C"
      },
      "execution_count": null,
      "outputs": []
    },
    {
      "cell_type": "code",
      "source": [
        "#soln 4\n",
        "a=int(25)\n",
        "b=int('25')\n",
        "c=float(25.0)\n",
        "s=str(a+b+c)\n",
        "print(\"the sum of three numbers is\",s)"
      ],
      "metadata": {
        "id": "gSlSRK4_lT4S"
      },
      "execution_count": null,
      "outputs": []
    },
    {
      "cell_type": "code",
      "source": [
        "#soln 5\n",
        "from math import * \n",
        "#create a for loop\n",
        "for i in range(0,360,15):\n",
        "  print(i,'',round(sin(i),4),round(cos(i),4))"
      ],
      "metadata": {
        "id": "HAZ9bvLUyy53"
      },
      "execution_count": null,
      "outputs": []
    }
  ]
}